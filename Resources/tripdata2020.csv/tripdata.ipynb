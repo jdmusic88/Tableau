{
 "cells": [
  {
   "cell_type": "code",
   "execution_count": 45,
   "metadata": {},
   "outputs": [],
   "source": [
    "import pandas as pd\n",
    "from glob import glob"
   ]
  },
  {
   "cell_type": "code",
   "execution_count": 46,
   "metadata": {},
   "outputs": [],
   "source": [
    "\n",
    "filenames2020 = glob(\"*JC-202003-citibike-tripdata*.csv\")\n"
   ]
  },
  {
   "cell_type": "code",
   "execution_count": 47,
   "metadata": {},
   "outputs": [],
   "source": [
    "df2020 = [pd.read_csv(f) for f in filenames2020]"
   ]
  },
  {
   "cell_type": "code",
   "execution_count": 48,
   "metadata": {},
   "outputs": [
    {
     "data": {
      "text/plain": [
       "[       tripduration                 starttime                  stoptime  \\\n",
       " 0               389  2020-03-01 00:14:07.0000  2020-03-01 00:20:36.0880   \n",
       " 1               242  2020-03-01 00:48:06.4390  2020-03-01 00:52:08.9870   \n",
       " 2               124  2020-03-01 01:08:46.4880  2020-03-01 01:10:51.2780   \n",
       " 3               104  2020-03-01 01:22:35.4790  2020-03-01 01:24:20.2470   \n",
       " 4               228  2020-03-01 01:39:20.2680  2020-03-01 01:43:09.1380   \n",
       " ...             ...                       ...                       ...   \n",
       " 17714           296  2020-03-31 22:50:39.0410  2020-03-31 22:55:35.5980   \n",
       " 17715           147  2020-03-31 23:09:15.9690  2020-03-31 23:11:43.5310   \n",
       " 17716           364  2020-03-31 23:17:02.0240  2020-03-31 23:23:06.8200   \n",
       " 17717          1217  2020-03-31 23:36:10.6430  2020-03-31 23:56:27.8120   \n",
       " 17718           846  2020-03-31 23:37:21.1840  2020-03-31 23:51:28.1220   \n",
       " \n",
       "        start station id start station name  start station latitude  \\\n",
       " 0                  3202       Newport PATH               40.727224   \n",
       " 1                  3185          City Hall               40.717733   \n",
       " 2                  3272       Jersey & 3rd               40.723332   \n",
       " 3                  3202       Newport PATH               40.727224   \n",
       " 4                  3194    McGinley Square               40.725340   \n",
       " ...                 ...                ...                     ...   \n",
       " 17714              3191           Union St               40.718211   \n",
       " 17715              3640     Journal Square               40.733670   \n",
       " 17716              3195            Sip Ave               40.730897   \n",
       " 17717              3267       Morris Canal               40.712419   \n",
       " 17718              3195            Sip Ave               40.730897   \n",
       " \n",
       "        start station longitude  end station id   end station name  \\\n",
       " 0                   -74.033759            3203      Hamilton Park   \n",
       " 1                   -74.043845            3205  JC Medical Center   \n",
       " 2                   -74.045953            3278   Monmouth and 6th   \n",
       " 3                   -74.033759            3638      Washington St   \n",
       " 4                   -74.067622            3280        Astor Place   \n",
       " ...                        ...             ...                ...   \n",
       " 17714               -74.083639            3694     Jackson Square   \n",
       " 17715               -74.062500            3206            Hilltop   \n",
       " 17716               -74.063913            3679         Bergen Ave   \n",
       " 17717               -74.038526            3276   Marin Light Rail   \n",
       " 17718               -74.063913            3193       Lincoln Park   \n",
       " \n",
       "        end station latitude  end station longitude  bikeid    usertype  \\\n",
       " 0                 40.727596             -74.044247   42381  Subscriber   \n",
       " 1                 40.716540             -74.049638   42155  Subscriber   \n",
       " 2                 40.725685             -74.048790   42376  Subscriber   \n",
       " 3                 40.724294             -74.035483   42350  Subscriber   \n",
       " 4                 40.719282             -74.071262   42235  Subscriber   \n",
       " ...                     ...                    ...     ...         ...   \n",
       " 17714             40.711130             -74.078900   42145  Subscriber   \n",
       " 17715             40.731169             -74.057574   42110  Subscriber   \n",
       " 17716             40.722104             -74.071455   42550  Subscriber   \n",
       " 17717             40.714584             -74.042817   42115  Subscriber   \n",
       " 17718             40.724605             -74.078406   42362  Subscriber   \n",
       " \n",
       "        birth year  gender  \n",
       " 0            1992       1  \n",
       " 1            1991       1  \n",
       " 2            1987       0  \n",
       " 3            1993       1  \n",
       " 4            1988       1  \n",
       " ...           ...     ...  \n",
       " 17714        1994       1  \n",
       " 17715        1991       1  \n",
       " 17716        1986       1  \n",
       " 17717        1986       1  \n",
       " 17718        1965       1  \n",
       " \n",
       " [17719 rows x 15 columns]]"
      ]
     },
     "execution_count": 48,
     "metadata": {},
     "output_type": "execute_result"
    }
   ],
   "source": [
    "df2020"
   ]
  },
  {
   "cell_type": "code",
   "execution_count": 49,
   "metadata": {},
   "outputs": [
    {
     "data": {
      "text/plain": [
       "1"
      ]
     },
     "execution_count": 49,
     "metadata": {},
     "output_type": "execute_result"
    }
   ],
   "source": [
    "\n",
    "len(df2020)"
   ]
  },
  {
   "cell_type": "code",
   "execution_count": 50,
   "metadata": {},
   "outputs": [],
   "source": [
    "\n",
    "filenames2020 = glob(\"*JC-202002-citibike-tripdata*.csv\")"
   ]
  },
  {
   "cell_type": "code",
   "execution_count": 51,
   "metadata": {},
   "outputs": [],
   "source": [
    "df2020 = [pd.read_csv(f) for f in filenames2020]"
   ]
  },
  {
   "cell_type": "code",
   "execution_count": 52,
   "metadata": {},
   "outputs": [
    {
     "data": {
      "text/plain": [
       "[       tripduration                 starttime                  stoptime  \\\n",
       " 0               841  2020-02-01 00:02:13.7650  2020-02-01 00:16:15.4720   \n",
       " 1               206  2020-02-01 00:16:11.3850  2020-02-01 00:19:37.4460   \n",
       " 2               859  2020-02-01 00:23:22.1090  2020-02-01 00:37:41.5060   \n",
       " 3               693  2020-02-01 00:25:14.5170  2020-02-01 00:36:48.0280   \n",
       " 4              1473  2020-02-01 00:32:30.5050  2020-02-01 00:57:04.3740   \n",
       " ...             ...                       ...                       ...   \n",
       " 22957           262  2020-02-29 23:40:53.1620  2020-02-29 23:45:15.3180   \n",
       " 22958           216  2020-02-29 23:41:01.3350  2020-02-29 23:44:38.0350   \n",
       " 22959           101  2020-02-29 23:45:22.1700  2020-02-29 23:47:03.2970   \n",
       " 22960           279  2020-02-29 23:47:56.8380  2020-02-29 23:52:36.6400   \n",
       " 22961           212  2020-02-29 23:49:18.4510  2020-02-29 23:52:50.7490   \n",
       " \n",
       "        start station id  start station name  start station latitude  \\\n",
       " 0                  3199        Newport Pkwy               40.728745   \n",
       " 1                  3273        Manila & 1st               40.721651   \n",
       " 2                  3185           City Hall               40.717733   \n",
       " 3                  3185           City Hall               40.717733   \n",
       " 4                  3192  Liberty Light Rail               40.711242   \n",
       " ...                 ...                 ...                     ...   \n",
       " 22957              3639          Harborside               40.719252   \n",
       " 22958              3186       Grove St PATH               40.719586   \n",
       " 22959              3214    Essex Light Rail               40.712774   \n",
       " 22960              3186       Grove St PATH               40.719586   \n",
       " 22961              3184         Paulus Hook               40.714145   \n",
       " \n",
       "        start station longitude  end station id         end station name  \\\n",
       " 0                   -74.032108            3213           Van Vorst Park   \n",
       " 1                   -74.042884            3639               Harborside   \n",
       " 2                   -74.043845            3268           Lafayette Park   \n",
       " 3                   -74.043845            3277  Communipaw & Berry Lane   \n",
       " 4                   -74.055701            3639               Harborside   \n",
       " ...                        ...             ...                      ...   \n",
       " 22957               -74.034234            3214         Essex Light Rail   \n",
       " 22958               -74.043117            3483            Montgomery St   \n",
       " 22959               -74.036486            3681                 Grand St   \n",
       " 22960               -74.043117            3483            Montgomery St   \n",
       " 22961               -74.033552            3276         Marin Light Rail   \n",
       " \n",
       "        end station latitude  end station longitude  bikeid    usertype  \\\n",
       " 0                 40.718489             -74.047727   42217  Subscriber   \n",
       " 1                 40.719252             -74.034234   42160  Subscriber   \n",
       " 2                 40.713464             -74.062859   42204    Customer   \n",
       " 3                 40.714358             -74.066611   42165  Subscriber   \n",
       " 4                 40.719252             -74.034234   26156    Customer   \n",
       " ...                     ...                    ...     ...         ...   \n",
       " 22957             40.712774             -74.036486   42467  Subscriber   \n",
       " 22958             40.719420             -74.050990   42377  Subscriber   \n",
       " 22959             40.715178             -74.037683   42485  Subscriber   \n",
       " 22960             40.719420             -74.050990   42531  Subscriber   \n",
       " 22961             40.714584             -74.042817   42385  Subscriber   \n",
       " \n",
       "        birth year  gender  \n",
       " 0            1980       1  \n",
       " 1            1990       1  \n",
       " 2            1991       1  \n",
       " 3            1987       1  \n",
       " 4            1969       0  \n",
       " ...           ...     ...  \n",
       " 22957        1967       1  \n",
       " 22958        1958       1  \n",
       " 22959        1967       1  \n",
       " 22960        1988       1  \n",
       " 22961        1967       1  \n",
       " \n",
       " [22962 rows x 15 columns]]"
      ]
     },
     "execution_count": 52,
     "metadata": {},
     "output_type": "execute_result"
    }
   ],
   "source": [
    "df2020"
   ]
  },
  {
   "cell_type": "code",
   "execution_count": 53,
   "metadata": {},
   "outputs": [
    {
     "data": {
      "text/plain": [
       "1"
      ]
     },
     "execution_count": 53,
     "metadata": {},
     "output_type": "execute_result"
    }
   ],
   "source": [
    "len(df2020)"
   ]
  },
  {
   "cell_type": "code",
   "execution_count": 54,
   "metadata": {},
   "outputs": [],
   "source": [
    "filenames2020 = glob(\"*JC-202001-citibike-tripdata*.csv\")"
   ]
  },
  {
   "cell_type": "code",
   "execution_count": 55,
   "metadata": {},
   "outputs": [],
   "source": [
    "df2020 = [pd.read_csv(f) for f in filenames2020]"
   ]
  },
  {
   "cell_type": "code",
   "execution_count": 56,
   "metadata": {},
   "outputs": [
    {
     "data": {
      "text/plain": [
       "[       tripduration                 starttime                  stoptime  \\\n",
       " 0               226  2020-01-01 00:04:50.1920  2020-01-01 00:08:37.0370   \n",
       " 1               377  2020-01-01 00:16:01.6700  2020-01-01 00:22:19.0800   \n",
       " 2               288  2020-01-01 00:17:33.8770  2020-01-01 00:22:22.4420   \n",
       " 3               435  2020-01-01 00:32:05.9020  2020-01-01 00:39:21.0660   \n",
       " 4               231  2020-01-01 00:46:19.6780  2020-01-01 00:50:11.3440   \n",
       " ...             ...                       ...                       ...   \n",
       " 26015           544  2020-01-31 23:29:29.3910  2020-01-31 23:38:33.6910   \n",
       " 26016           122  2020-01-31 23:30:59.3670  2020-01-31 23:33:01.6870   \n",
       " 26017           201  2020-01-31 23:42:34.8460  2020-01-31 23:45:55.8780   \n",
       " 26018           300  2020-01-31 23:45:00.6800  2020-01-31 23:50:00.8740   \n",
       " 26019           721  2020-01-31 23:48:35.1700  2020-02-01 00:00:36.4060   \n",
       " \n",
       "        start station id          start station name  start station latitude  \\\n",
       " 0                  3186               Grove St PATH               40.719586   \n",
       " 1                  3186               Grove St PATH               40.719586   \n",
       " 2                  3186               Grove St PATH               40.719586   \n",
       " 3                  3195                     Sip Ave               40.730897   \n",
       " 4                  3186               Grove St PATH               40.719586   \n",
       " ...                 ...                         ...                     ...   \n",
       " 26015              3213              Van Vorst Park               40.718489   \n",
       " 26016              3792  Columbus Dr at Exchange Pl               40.716870   \n",
       " 26017              3273                Manila & 1st               40.721651   \n",
       " 26018              3185                   City Hall               40.717733   \n",
       " 26019              3206                     Hilltop               40.731169   \n",
       " \n",
       "        start station longitude  end station id  end station name  \\\n",
       " 0                   -74.043117            3211        Newark Ave   \n",
       " 1                   -74.043117            3269   Brunswick & 6th   \n",
       " 2                   -74.043117            3269   Brunswick & 6th   \n",
       " 3                   -74.063913            3280       Astor Place   \n",
       " 4                   -74.043117            3276  Marin Light Rail   \n",
       " ...                        ...             ...               ...   \n",
       " 26015               -74.047727            3194   McGinley Square   \n",
       " 26016               -74.032810            3639        Harborside   \n",
       " 26017               -74.042884            3209      Brunswick St   \n",
       " 26018               -74.043845            3267      Morris Canal   \n",
       " 26019               -74.057574            3202      Newport PATH   \n",
       " \n",
       "        end station latitude  end station longitude  bikeid    usertype  \\\n",
       " 0                 40.721525             -74.046305   29444  Subscriber   \n",
       " 1                 40.726012             -74.050389   26305  Subscriber   \n",
       " 2                 40.726012             -74.050389   29268    Customer   \n",
       " 3                 40.719282             -74.071262   29278    Customer   \n",
       " 4                 40.714584             -74.042817   29276  Subscriber   \n",
       " ...                     ...                    ...     ...         ...   \n",
       " 26015             40.725340             -74.067622   29659  Subscriber   \n",
       " 26016             40.719252             -74.034234   42361  Subscriber   \n",
       " 26017             40.724176             -74.050656   42368  Subscriber   \n",
       " 26018             40.712419             -74.038526   42257  Subscriber   \n",
       " 26019             40.727224             -74.033759   29302    Customer   \n",
       " \n",
       "        birth year  gender  \n",
       " 0            1984       2  \n",
       " 1            1989       2  \n",
       " 2            1989       1  \n",
       " 3            1969       0  \n",
       " 4            1983       2  \n",
       " ...           ...     ...  \n",
       " 26015        1989       1  \n",
       " 26016        1991       1  \n",
       " 26017        1988       1  \n",
       " 26018        1981       2  \n",
       " 26019        1998       1  \n",
       " \n",
       " [26020 rows x 15 columns]]"
      ]
     },
     "execution_count": 56,
     "metadata": {},
     "output_type": "execute_result"
    }
   ],
   "source": [
    "df2020"
   ]
  },
  {
   "cell_type": "code",
   "execution_count": 57,
   "metadata": {},
   "outputs": [
    {
     "data": {
      "text/plain": [
       "1"
      ]
     },
     "execution_count": 57,
     "metadata": {},
     "output_type": "execute_result"
    }
   ],
   "source": [
    "len(df2020)"
   ]
  },
  {
   "cell_type": "code",
   "execution_count": 58,
   "metadata": {},
   "outputs": [],
   "source": [
    "filenames2020 = glob(\"*JC-201912-citibike-tripdata*.csv\")\n"
   ]
  },
  {
   "cell_type": "code",
   "execution_count": 59,
   "metadata": {},
   "outputs": [],
   "source": [
    "df2020 = [pd.read_csv(f) for f in filenames2020]"
   ]
  },
  {
   "cell_type": "code",
   "execution_count": 60,
   "metadata": {},
   "outputs": [
    {
     "data": {
      "text/plain": [
       "[       tripduration                 starttime                  stoptime  \\\n",
       " 0              1553  2019-12-01 00:07:13.9360  2019-12-01 00:33:07.6820   \n",
       " 1               416  2019-12-01 00:16:40.4700  2019-12-01 00:23:36.5700   \n",
       " 2               294  2019-12-01 00:20:29.7980  2019-12-01 00:25:23.9690   \n",
       " 3                97  2019-12-01 00:21:13.7580  2019-12-01 00:22:51.5970   \n",
       " 4               286  2019-12-01 00:29:58.0230  2019-12-01 00:34:44.2280   \n",
       " ...             ...                       ...                       ...   \n",
       " 19723           283  2019-12-31 23:12:18.5480  2019-12-31 23:17:01.8740   \n",
       " 19724           267  2019-12-31 23:19:03.5840  2019-12-31 23:23:30.6640   \n",
       " 19725           379  2019-12-31 23:19:06.5830  2019-12-31 23:25:25.7970   \n",
       " 19726           188  2019-12-31 23:24:00.2630  2019-12-31 23:27:09.0400   \n",
       " 19727           326  2019-12-31 23:45:20.9780  2019-12-31 23:50:47.7490   \n",
       " \n",
       "        start station id start station name  start station latitude  \\\n",
       " 0                  3681           Grand St               40.715178   \n",
       " 1                  3195            Sip Ave               40.730897   \n",
       " 2                  3195            Sip Ave               40.730897   \n",
       " 3                  3202       Newport PATH               40.727224   \n",
       " 4                  3195            Sip Ave               40.730897   \n",
       " ...                 ...                ...                     ...   \n",
       " 19723              3195            Sip Ave               40.730897   \n",
       " 19724              3186      Grove St PATH               40.719586   \n",
       " 19725              3209       Brunswick St               40.724176   \n",
       " 19726              3639         Harborside               40.719252   \n",
       " 19727              3195            Sip Ave               40.730897   \n",
       " \n",
       "        start station longitude  end station id   end station name  \\\n",
       " 0                   -74.037683            3198   Heights Elevator   \n",
       " 1                   -74.063913            3679         Bergen Ave   \n",
       " 2                   -74.063913            3678      Fairmount Ave   \n",
       " 3                   -74.033759            3638      Washington St   \n",
       " 4                   -74.063913            3679         Bergen Ave   \n",
       " ...                        ...             ...                ...   \n",
       " 19723               -74.063913            3679         Bergen Ave   \n",
       " 19724               -74.043117            3205  JC Medical Center   \n",
       " 19725               -74.050656            3185          City Hall   \n",
       " 19726               -74.034234            3186      Grove St PATH   \n",
       " 19727               -74.063913            3280        Astor Place   \n",
       " \n",
       "        end station latitude  end station longitude  bikeid    usertype  \\\n",
       " 0                 40.748716             -74.040443   29462  Subscriber   \n",
       " 1                 40.722104             -74.071455   29610  Subscriber   \n",
       " 2                 40.725726             -74.071959   26166  Subscriber   \n",
       " 3                 40.724294             -74.035483   29492  Subscriber   \n",
       " 4                 40.722104             -74.071455   29440    Customer   \n",
       " ...                     ...                    ...     ...         ...   \n",
       " 19723             40.722104             -74.071455   29245    Customer   \n",
       " 19724             40.716540             -74.049638   26153  Subscriber   \n",
       " 19725             40.717733             -74.043845   26276  Subscriber   \n",
       " 19726             40.719586             -74.043117   29461  Subscriber   \n",
       " 19727             40.719282             -74.071262   29123  Subscriber   \n",
       " \n",
       "        birth year  gender  \n",
       " 0            1980       1  \n",
       " 1            1956       1  \n",
       " 2            1977       1  \n",
       " 3            1993       1  \n",
       " 4            1990       1  \n",
       " ...           ...     ...  \n",
       " 19723        1990       1  \n",
       " 19724        1989       1  \n",
       " 19725        1984       1  \n",
       " 19726        1987       1  \n",
       " 19727        1988       1  \n",
       " \n",
       " [19728 rows x 15 columns]]"
      ]
     },
     "execution_count": 60,
     "metadata": {},
     "output_type": "execute_result"
    }
   ],
   "source": [
    "df2020"
   ]
  },
  {
   "cell_type": "code",
   "execution_count": null,
   "metadata": {},
   "outputs": [],
   "source": []
  },
  {
   "cell_type": "code",
   "execution_count": null,
   "metadata": {},
   "outputs": [],
   "source": []
  },
  {
   "cell_type": "code",
   "execution_count": null,
   "metadata": {},
   "outputs": [],
   "source": []
  }
 ],
 "metadata": {
  "kernelspec": {
   "display_name": "Python 3",
   "language": "python",
   "name": "python3"
  },
  "language_info": {
   "codemirror_mode": {
    "name": "ipython",
    "version": 3
   },
   "file_extension": ".py",
   "mimetype": "text/x-python",
   "name": "python",
   "nbconvert_exporter": "python",
   "pygments_lexer": "ipython3",
   "version": "3.7.4"
  }
 },
 "nbformat": 4,
 "nbformat_minor": 2
}
